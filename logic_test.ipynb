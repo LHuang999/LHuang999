{
  "nbformat": 4,
  "nbformat_minor": 0,
  "metadata": {
    "colab": {
      "provenance": [],
      "authorship_tag": "ABX9TyNSGlZUuriGd007I54+J6LW",
      "include_colab_link": true
    },
    "kernelspec": {
      "name": "python3",
      "display_name": "Python 3"
    },
    "language_info": {
      "name": "python"
    }
  },
  "cells": [
    {
      "cell_type": "markdown",
      "metadata": {
        "id": "view-in-github",
        "colab_type": "text"
      },
      "source": [
        "<a href=\"https://colab.research.google.com/github/LHuang999/logic-test/blob/main/logic_test.ipynb\" target=\"_parent\"><img src=\"https://colab.research.google.com/assets/colab-badge.svg\" alt=\"Open In Colab\"/></a>"
      ]
    },
    {
      "cell_type": "code",
      "execution_count": null,
      "metadata": {
        "colab": {
          "base_uri": "https://localhost:8080/"
        },
        "id": "mtPoOsNjwwiZ",
        "outputId": "e66d97a3-b82c-4826-88aa-97f8d0c6a169"
      },
      "outputs": [
        {
          "output_type": "stream",
          "name": "stdout",
          "text": [
            "Input:  [35, 46, 57, 91, 29]\n",
            "Output:  [35, 46, 57, 91, 29]\n"
          ]
        }
      ],
      "source": [
        "def correct_grades(incorrect_grades):\n",
        "    correct_grades = [53, 64, 75, 19, 92]\n",
        "    for i in range(len(incorrect_grades)):\n",
        "        correct_grades[i] = incorrect_grades[i]\n",
        "    return correct_grades\n",
        "\n",
        "# Input the incorrect grades\n",
        "incorrect_grades = [35, 46, 57, 91, 29]\n",
        "\n",
        "# Call the function to correct the grades\n",
        "corrected_grades = correct_grades(incorrect_grades)\n",
        "\n",
        "# Output the corrected grades\n",
        "print(\"Input: \", incorrect_grades)\n",
        "print(\"Output: \", corrected_grades)"
      ]
    },
    {
      "cell_type": "code",
      "source": [
        "# Input text\n",
        "text = \"Hello welcome to Cathay 60th year anniversary\"\n",
        "\n",
        "# Convert the text to lowercase to treat uppercase and lowercase as the same\n",
        "text = text.lower()\n",
        "\n",
        "# Initialize a dictionary to store letter counts\n",
        "letter_counts = {}\n",
        "\n",
        "# Iterate through each character in the text\n",
        "for char in text:\n",
        "    if char.isalpha():  # Check if the character is a letter\n",
        "        if char in letter_counts:\n",
        "            letter_counts[char] += 1\n",
        "        else:\n",
        "            letter_counts[char] = 1\n",
        "\n",
        "# Sort the letter counts by the letter's ASCII value\n",
        "sorted_counts = sorted(letter_counts.items())\n",
        "\n",
        "# Print the results\n",
        "for letter, count in sorted_counts:\n",
        "    print(f\"{letter} {count}\")\n"
      ],
      "metadata": {
        "colab": {
          "base_uri": "https://localhost:8080/"
        },
        "id": "sFOJ2a6E1ASU",
        "outputId": "f4aaede7-7a68-49ec-b2d9-d005be907c97"
      },
      "execution_count": null,
      "outputs": [
        {
          "output_type": "stream",
          "name": "stdout",
          "text": [
            "a 5\n",
            "c 2\n",
            "e 5\n",
            "h 3\n",
            "i 1\n",
            "l 3\n",
            "m 1\n",
            "n 2\n",
            "o 3\n",
            "r 3\n",
            "s 1\n",
            "t 3\n",
            "v 1\n",
            "w 1\n",
            "y 3\n"
          ]
        }
      ]
    },
    {
      "cell_type": "code",
      "source": [
        "def find_last_position(n):\n",
        "    if n == 0:\n",
        "        return None\n",
        "\n",
        "    # Create a list of people with initial positions\n",
        "    people = list(range(1, n + 1))\n",
        "\n",
        "    # Initialize the starting index and count\n",
        "    index = 0\n",
        "    count = 0\n",
        "\n",
        "    while len(people) > 1:\n",
        "        count += 1\n",
        "        index %= len(people)\n",
        "\n",
        "        if count % 3 == 0:\n",
        "            # Remove the person at the current index\n",
        "            del people[index]\n",
        "        else:\n",
        "            index += 1\n",
        "\n",
        "    # The last remaining person's position\n",
        "    return people[0]\n",
        "\n",
        "# Input\n",
        "n = int(input(\"Enter the number of people in the circle (0-100): \"))\n",
        "\n",
        "if 0 <= n <= 100:\n",
        "    result = find_last_position(n)\n",
        "    print(f\"The last remaining person is at position {result}.\")\n",
        "else:\n",
        "    print(\"Invalid input. Please enter a number between 0 and 100.\")\n"
      ],
      "metadata": {
        "colab": {
          "base_uri": "https://localhost:8080/"
        },
        "id": "V0CD0UFH1RU5",
        "outputId": "e5e65378-fc85-4ee4-c61d-ab4b1be17b89"
      },
      "execution_count": null,
      "outputs": [
        {
          "output_type": "stream",
          "name": "stdout",
          "text": [
            "Enter the number of people in the circle (0-100): 6\n",
            "The last remaining person is at position 1.\n"
          ]
        }
      ]
    }
  ]
}