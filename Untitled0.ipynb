{
  "nbformat": 4,
  "nbformat_minor": 0,
  "metadata": {
    "colab": {
      "provenance": [],
      "authorship_tag": "ABX9TyMKJfXRrCQ3UzYQuifeZcTV",
      "include_colab_link": true
    },
    "kernelspec": {
      "name": "python3",
      "display_name": "Python 3"
    },
    "language_info": {
      "name": "python"
    }
  },
  "cells": [
    {
      "cell_type": "markdown",
      "metadata": {
        "id": "view-in-github",
        "colab_type": "text"
      },
      "source": [
        "<a href=\"https://colab.research.google.com/github/LHuang999/LHuang999/blob/main/Untitled0.ipynb\" target=\"_parent\"><img src=\"https://colab.research.google.com/assets/colab-badge.svg\" alt=\"Open In Colab\"/></a>"
      ]
    },
    {
      "cell_type": "code",
      "execution_count": 1,
      "metadata": {
        "colab": {
          "base_uri": "https://localhost:8080/"
        },
        "id": "mtPoOsNjwwiZ",
        "outputId": "e66d97a3-b82c-4826-88aa-97f8d0c6a169"
      },
      "outputs": [
        {
          "output_type": "stream",
          "name": "stdout",
          "text": [
            "Input:  [35, 46, 57, 91, 29]\n",
            "Output:  [35, 46, 57, 91, 29]\n"
          ]
        }
      ],
      "source": [
        "def correct_grades(incorrect_grades):\n",
        "    correct_grades = [53, 64, 75, 19, 92]\n",
        "    for i in range(len(incorrect_grades)):\n",
        "        correct_grades[i] = incorrect_grades[i]\n",
        "    return correct_grades\n",
        "\n",
        "# Input the incorrect grades\n",
        "incorrect_grades = [35, 46, 57, 91, 29]\n",
        "\n",
        "# Call the function to correct the grades\n",
        "corrected_grades = correct_grades(incorrect_grades)\n",
        "\n",
        "# Output the corrected grades\n",
        "print(\"Input: \", incorrect_grades)\n",
        "print(\"Output: \", corrected_grades)"
      ]
    }
  ]
}